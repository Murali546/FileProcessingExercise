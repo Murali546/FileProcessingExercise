{
 "cells": [
  {
   "cell_type": "code",
   "execution_count": 1,
   "metadata": {},
   "outputs": [],
   "source": [
    "from pathlib import Path"
   ]
  },
  {
   "cell_type": "markdown",
   "metadata": {},
   "source": [
    "# Working with File Paths"
   ]
  },
  {
   "cell_type": "markdown",
   "metadata": {},
   "source": [
    "## Dessecting File Paths into components using the PathLib package\n",
    "\n",
    "Lookup:  Drive, Directory, Name, Extension, etc\n",
    "\n",
    "  - Path.name\n",
    "  - filename.stem\n",
    "  - path.parent\n",
    "  - Path.suffix, Path.suffixes\n",
    "  - Path.parts\n",
    "\n",
    "Transform:\n",
    "\n",
    "   - Path.with_name(\"new_name.txt\")\n",
    "   - Path.with_suffix(\".tif\")\n",
    "\n",
    "Check on Filesystem:\n",
    "\n",
    "   - Path.exists()\n",
    "   - Path.is_dir()\n",
    "   - Path.is_file()   \n"
   ]
  },
  {
   "cell_type": "markdown",
   "metadata": {},
   "source": [
    "#### Exercise\n",
    "\n",
    "Using the following Path, extract the following information"
   ]
  },
  {
   "cell_type": "code",
   "execution_count": 2,
   "metadata": {},
   "outputs": [
    {
     "data": {
      "text/plain": [
       "WindowsPath('/usr/home/nick/Desktop/MyExperiment/data/nick_session1_day2.jpg')"
      ]
     },
     "execution_count": 2,
     "metadata": {},
     "output_type": "execute_result"
    }
   ],
   "source": [
    "filename = Path(\"/usr/home/nick/Desktop/MyExperiment/data/nick_session1_day2.jpg\")\n",
    "filename"
   ]
  },
  {
   "cell_type": "markdown",
   "metadata": {},
   "source": [
    "#### What directory is this file located in?"
   ]
  },
  {
   "cell_type": "code",
   "execution_count": null,
   "metadata": {},
   "outputs": [],
   "source": []
  },
  {
   "cell_type": "markdown",
   "metadata": {},
   "source": [
    "#### What is the filename (without the directory)?"
   ]
  },
  {
   "cell_type": "code",
   "execution_count": null,
   "metadata": {},
   "outputs": [],
   "source": []
  },
  {
   "cell_type": "markdown",
   "metadata": {},
   "source": [
    "#### What is the file extension?"
   ]
  },
  {
   "cell_type": "code",
   "execution_count": null,
   "metadata": {},
   "outputs": [],
   "source": []
  },
  {
   "cell_type": "markdown",
   "metadata": {},
   "source": [
    "#### What is the filename (without the extension)?"
   ]
  },
  {
   "cell_type": "code",
   "execution_count": null,
   "metadata": {},
   "outputs": [],
   "source": []
  },
  {
   "cell_type": "markdown",
   "metadata": {},
   "source": [
    "#### Get the Path, but with a \".txt\" extension instead."
   ]
  },
  {
   "cell_type": "code",
   "execution_count": null,
   "metadata": {},
   "outputs": [],
   "source": []
  },
  {
   "cell_type": "markdown",
   "metadata": {},
   "source": [
    "#### Make a new filename \"data2.jpg\" in the same directory"
   ]
  },
  {
   "cell_type": "code",
   "execution_count": null,
   "metadata": {},
   "outputs": [],
   "source": []
  },
  {
   "cell_type": "markdown",
   "metadata": {},
   "source": [
    "#### Does the filename exist (the original one, not the new ones)?"
   ]
  },
  {
   "cell_type": "code",
   "execution_count": null,
   "metadata": {},
   "outputs": [],
   "source": []
  },
  {
   "cell_type": "markdown",
   "metadata": {},
   "source": [
    "## Joining Paths\n",
    "\n",
    "From scratch:\n",
    "\n",
    "   - Path(\"\").joinpath(\"home\").joinpath(\"nick\")\n",
    "   - Path(\"\").joinpath(\"home/nick\")\n",
    "   - Path(\"home\") / \"nick\"\n",
    "\n",
    "From an existing directory:\n",
    "\n",
    "   - Path.cwd()\n",
    "   - Path.home()\n",
    "\n",
    "Files in a directory:\n",
    "\n",
    "   - list(Path.home().iterdir())\n",
    "   - Path.home().glob(\"*.txt\")\n",
    "\n",
    "\n",
    "   "
   ]
  },
  {
   "cell_type": "markdown",
   "metadata": {},
   "source": [
    "### Exercises"
   ]
  },
  {
   "cell_type": "markdown",
   "metadata": {},
   "source": [
    "#### What is your home directory?"
   ]
  },
  {
   "cell_type": "code",
   "execution_count": null,
   "metadata": {},
   "outputs": [],
   "source": []
  },
  {
   "cell_type": "markdown",
   "metadata": {},
   "source": [
    "### What is the current directory?"
   ]
  },
  {
   "cell_type": "code",
   "execution_count": null,
   "metadata": {},
   "outputs": [],
   "source": []
  },
  {
   "cell_type": "markdown",
   "metadata": {},
   "source": [
    "### How many files are on your desktop?"
   ]
  },
  {
   "cell_type": "code",
   "execution_count": null,
   "metadata": {},
   "outputs": [],
   "source": []
  },
  {
   "cell_type": "markdown",
   "metadata": {},
   "source": [
    "### What is the name of the .tif files in the data/raw folder?"
   ]
  },
  {
   "cell_type": "code",
   "execution_count": null,
   "metadata": {},
   "outputs": [],
   "source": []
  },
  {
   "cell_type": "markdown",
   "metadata": {},
   "source": [
    "### How many image files are in the data/raw folder?"
   ]
  },
  {
   "cell_type": "markdown",
   "metadata": {},
   "source": []
  },
  {
   "cell_type": "markdown",
   "metadata": {},
   "source": [
    "## Making Paths Real\n",
    "\n",
    "### New (Empty) File Creation:  \n",
    "\n",
    "  - Path(\"mypath.txt\").touch()\n",
    "  - Path(\"mypath.txt\").open(mode=\"w\")\n",
    "  \n",
    "### New Folder Creation: \n",
    "\n",
    "  - Path(\"myfolder\").mkdir()\n",
    "  - Path(\"myfolder\").mkdir(exist_ok=True)\n",
    "  - Path(\"myfolder1/myfolder2/myfolder3\").mkdir(parents=True)\n",
    "   \n",
    "### Opening, Reading, Writing to a File:\n",
    "\n",
    "#### Text Data:\n",
    "\n",
    "  - text = Path(\"myfile.txt\").read_text()\n",
    "  - text = Path(\"myfile.txt\").write_text()\n",
    "  - text = Path(\"myfile.txt\").open(mode=\"r\").read()\n",
    "  - Path(\"myfile.txt\").open(mode=\"w\").write(text)\n",
    "\n",
    "#### Binary (raw bytes) Data:\n",
    "\n",
    "  - raw = Path(\"myfile.dat\").read_bytes()\n",
    "  - raw = Path(\"myfile.data\").write_bytes()\n",
    "  - raw = Path(\"myfile.dat\").open(mode=\"rb\").read()\n",
    "  - Path(\"myfile.dat\").open(mode=\"wb\").write(raw)\n",
    "  \n",
    "  \n",
    "  \n",
    "  "
   ]
  },
  {
   "cell_type": "code",
   "execution_count": null,
   "metadata": {},
   "outputs": [],
   "source": []
  },
  {
   "cell_type": "markdown",
   "metadata": {},
   "source": [
    "### Exercises"
   ]
  },
  {
   "cell_type": "markdown",
   "metadata": {},
   "source": [
    "Make a \"Hello Beautiful World\" text file: **hello.txt**."
   ]
  },
  {
   "cell_type": "code",
   "execution_count": null,
   "metadata": {},
   "outputs": [],
   "source": []
  },
  {
   "cell_type": "markdown",
   "metadata": {},
   "source": [
    "Make a \"Goodby Cruel World\" text file: **bye.txt**, using a different method."
   ]
  },
  {
   "cell_type": "code",
   "execution_count": null,
   "metadata": {},
   "outputs": [],
   "source": []
  },
  {
   "cell_type": "markdown",
   "metadata": {},
   "source": [
    "Read from your hello file to a string variable and display the contents"
   ]
  },
  {
   "cell_type": "code",
   "execution_count": null,
   "metadata": {},
   "outputs": [],
   "source": []
  },
  {
   "cell_type": "markdown",
   "metadata": {},
   "source": [
    "Using a different method, read from your bye file to a string variable and display the contents."
   ]
  },
  {
   "cell_type": "code",
   "execution_count": null,
   "metadata": {},
   "outputs": [],
   "source": []
  }
 ],
 "metadata": {
  "kernelspec": {
   "display_name": "Python 3",
   "language": "python",
   "name": "python3"
  },
  "language_info": {
   "codemirror_mode": {
    "name": "ipython",
    "version": 3
   },
   "file_extension": ".py",
   "mimetype": "text/x-python",
   "name": "python",
   "nbconvert_exporter": "python",
   "pygments_lexer": "ipython3",
   "version": "3.9.2"
  }
 },
 "nbformat": 4,
 "nbformat_minor": 4
}
